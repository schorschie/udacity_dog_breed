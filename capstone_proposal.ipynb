{
 "cells": [
  {
   "cell_type": "markdown",
   "metadata": {},
   "source": [
    "# Dog Breed Identification\n",
    "## Capstone Project Proposal\n",
    "Grzegorz Lippe, 19th. of February 2021\n",
    "\n",
    "## Domain Background\n",
    "\n",
    "The task of identifying dog breeds is a known topic amonst the community for machine learning. I've chosen the dog breed identifiere amongst the proposed projects, because it attracted me the most. \n",
    "\n",
    "The benefit of the dog breed problem is the high availability of labeled datasets which can be used for training and validation of the model. A quick search on [kaggle](https://www.kaggle.com/c/dog-breed-identification/notebooks) and [github](https://github.com/search?q=dog+breed) provide lots of sources.\n",
    "\n",
    "Additionally, as described in the Udacity dog breed template \"the task of assigning breed to dogs from images is considered exceptionally challenging.\" \n",
    "\n",
    "\n",
    "*Student briefly details background information of the domain from which the project is proposed. Historical information relevant to the project should be included. It should be clear how or why a problem in the domain can or should be solved. Related academic research should be appropriately cited. A discussion of the student's personal motivation for investigating a particular problem in the domain is encouraged but not required.*\n",
    "\n",
    "## Problem Statement\n",
    "\t\n",
    "The goal of this project is to provide an app, that can take an arbitrary picture and return a statement of a most likely dog breed. If a picture of a cat or human is provided, this likeliness should be comparably small to dog images. \n",
    "\n",
    "*Student clearly describes the problem that is to be solved. The problem is well defined and has at least one relevant potential solution. Additionally, the problem is quantifiable, measurable, and replicable.*\n",
    "\n",
    "## Datasets and Inputs\n",
    "\t\n",
    "\n",
    "The dataset(s) and/or input(s) to be used in the project are thoroughly described. Information such as how the dataset or input is (was) obtained, and the characteristics of the dataset or input, should be included. It should be clear how the dataset(s) or input(s) will be used in the project and whether their use is appropriate given the context of the problem.\n",
    "\n",
    "## Solution Statement\n",
    "\t\n",
    "\n",
    "Student clearly describes a solution to the problem. The solution is applicable to the project domain and appropriate for the dataset(s) or input(s) given. Additionally, the solution is quantifiable, measurable, and replicable.\n",
    "\n",
    "## Benchmark Model\n",
    "\t\n",
    "\n",
    "A benchmark model is provided that relates to the domain, problem statement, and intended solution. Ideally, the student's benchmark model provides context for existing methods or known information in the domain and problem given, which can then be objectively compared to the student's solution. The benchmark model is clearly defined and measurable.\n",
    "\n",
    "## Evaluation Metrics\n",
    "\t\n",
    "\n",
    "Student proposes at least one evaluation metric that can be used to quantify the performance of both the benchmark model and the solution model presented. The evaluation metric(s) proposed are appropriate given the context of the data, the problem statement, and the intended solution.\n",
    "\n",
    "## Project Design\n",
    "\n",
    "Student summarizes a theoretical workflow for approaching a solution given the problem. Discussion is made as to what strategies may be employed, what analysis of the data might be required, or which algorithms will be considered. The workflow and discussion provided align with the qualities of the project. Small visualizations, pseudocode, or diagrams are encouraged but not required.\n",
    "\n",
    "## Presentation\n",
    "Proposal follows a well-organized structure and would be readily understood by its intended audience. Each section is written in a clear, concise and specific manner. Few grammatical and spelling mistakes are present. All resources used and referenced are properly cited."
   ]
  },
  {
   "cell_type": "code",
   "execution_count": null,
   "metadata": {},
   "outputs": [],
   "source": []
  }
 ],
 "metadata": {
  "kernelspec": {
   "display_name": "Python 3.7.4 64-bit ('base': conda)",
   "language": "python",
   "name": "python37464bitbaseconda3857d77e29dc499b97ef96dcbeaa520a"
  },
  "language_info": {
   "codemirror_mode": {
    "name": "ipython",
    "version": 3
   },
   "file_extension": ".py",
   "mimetype": "text/x-python",
   "name": "python",
   "nbconvert_exporter": "python",
   "pygments_lexer": "ipython3",
   "version": "3.7.4"
  }
 },
 "nbformat": 4,
 "nbformat_minor": 2
}
